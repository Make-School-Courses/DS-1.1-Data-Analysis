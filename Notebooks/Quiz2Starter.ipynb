{
 "cells": [
  {
   "cell_type": "markdown",
   "metadata": {},
   "source": [
    "# Question 1\n",
    "\n",
    "Merge adf and bdf based on what they have in common or their intersection."
   ]
  },
  {
   "cell_type": "code",
   "execution_count": 5,
   "metadata": {},
   "outputs": [],
   "source": [
    "import pandas as pd\n",
    "\n",
    "adf = pd.DataFrame(data={'x1': ['A', 'B', 'C', 'D'], 'x2' : [1, 2, 3, 4]})\n",
    "bdf = pd.DataFrame(data={'x3' : ['T', 'F', 'T', \"F\"], 'x2' : [10, 11, 4, 5]})\n",
    "#TODO: write code to merge based on intersection"
   ]
  },
  {
   "cell_type": "markdown",
   "metadata": {},
   "source": [
    "# Question 2\n",
    "\n",
    "Compute the mean, median and mode for the Speed value in the Pokemon dataset"
   ]
  },
  {
   "cell_type": "code",
   "execution_count": 26,
   "metadata": {},
   "outputs": [],
   "source": [
    "df = pd.read_csv(\"Datasets/pokemon.csv\")\n",
    "#TODO: write code to get the mean, median, and mode for the Speed column"
   ]
  },
  {
   "cell_type": "markdown",
   "metadata": {},
   "source": [
    "# Question 3\n",
    "\n",
    "Your friend Ash is pretty certain that the average defense points for Generation 6 Pokemon is less than the average defense points for Generation 1 Pokemon. Perform a hypothesis test with a significance level of 0.05 to see if you can verify Ash's claim. When answering include comments that answer these questions: \n",
    "\n",
    "- What is the null hypothesis?\n",
    "- What statistical test will you use? \n",
    "- Will you accept or reject? \n",
    "- What is a type I error in this senario?\n",
    "- What is a type II error in this scenario?\n",
    "- Which one would be worse in this scenario?"
   ]
  },
  {
   "cell_type": "code",
   "execution_count": 12,
   "metadata": {},
   "outputs": [],
   "source": [
    "df = pd.read_csv(\"Datasets/pokemon.csv\")\n",
    "#TODO: add your hypothesis testing code"
   ]
  },
  {
   "cell_type": "markdown",
   "metadata": {},
   "source": [
    "# Question 4\n",
    "\n",
    "What are the two methods for removing outliers? Explain your answer in writing.\n",
    "\n",
    "#TODO: explain outlier methods"
   ]
  },
  {
   "cell_type": "markdown",
   "metadata": {},
   "source": [
    "# Question 5\n",
    "\n",
    "Create a pdf plot of the Attack column of the Pokemon data set. Write two observations you can make using this plot. \n",
    "\n"
   ]
  },
  {
   "cell_type": "code",
   "execution_count": 16,
   "metadata": {},
   "outputs": [],
   "source": [
    "import seaborn as sns\n",
    "df = pd.read_csv(\"Datasets/pokemon.csv\")\n",
    "#TODO: create a pdf\n",
    "# TODO: Analyze the pdf"
   ]
  },
  {
   "cell_type": "markdown",
   "metadata": {},
   "source": [
    "# Question 6\n",
    "\n",
    "Create a heatmap of the correlations between \"Attack\", \"Defense\", \"HP\", \"Speed\", \"Sp. Atk\", \"Sp. Def\", what are two observations you can make using this heatmap?"
   ]
  },
  {
   "cell_type": "code",
   "execution_count": 25,
   "metadata": {},
   "outputs": [],
   "source": [
    "df = pd.read_csv(\"Datasets/pokemon.csv\")\n",
    "df = df[[\"Attack\", \"Defense\", \"HP\", \"Speed\", \"Sp. Atk\", \"Sp. Def\"]]\n",
    "#TODO: write code for heatmap \n",
    "#TODO: write two observations about heatmap\n",
    "\n"
   ]
  },
  {
   "cell_type": "code",
   "execution_count": null,
   "metadata": {},
   "outputs": [],
   "source": []
  }
 ],
 "metadata": {
  "kernelspec": {
   "display_name": "Python 3",
   "language": "python",
   "name": "python3"
  },
  "language_info": {
   "codemirror_mode": {
    "name": "ipython",
    "version": 3
   },
   "file_extension": ".py",
   "mimetype": "text/x-python",
   "name": "python",
   "nbconvert_exporter": "python",
   "pygments_lexer": "ipython3",
   "version": "3.7.3"
  }
 },
 "nbformat": 4,
 "nbformat_minor": 4
}
