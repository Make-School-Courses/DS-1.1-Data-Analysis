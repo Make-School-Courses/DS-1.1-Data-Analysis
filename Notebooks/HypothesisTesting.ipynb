{
 "cells": [
  {
   "cell_type": "markdown",
   "metadata": {},
   "source": [
    "## Learning Objectives\n",
    "\n",
    "By the end of this lesson, you will be able to:\n",
    "\n",
    "1- Describe null hypothesis and when and how to apply it\n",
    "\n",
    "2- Define the metrics we need in order to statistically accept or reject null\n",
    "\n",
    "3- Understand how and when to use Z test or T test\n",
    "\n",
    "4- Distinguish whether or not two groups are different"
   ]
  },
  {
   "cell_type": "markdown",
   "metadata": {},
   "source": [
    "## What is a hypothesis?\n",
    "\n",
    "Think about it for a few minutes and let's discuss!"
   ]
  },
  {
   "cell_type": "markdown",
   "metadata": {},
   "source": [
    "## Logic Behind Hypothesis Testing\n",
    "\n",
    "This aspect of the scientific method has is rooted in the falsification theory of Karl Popper. Here is a classic example of why falsification or refutability is used over verifiability: \n",
    "\n",
    "Consider the statement \"all flowers are purple\", is this easy to disprove with evidence? What about proving it? "
   ]
  },
  {
   "cell_type": "markdown",
   "metadata": {},
   "source": [
    "## What is a null hypothesis?\n",
    "\n",
    "It is the formal method of reaching conclusions based on population statistics and sample data where we apply changes to a population.\n",
    "\n",
    "\"A null hypothesis is a type of hypothesis used in statistics that proposes that there is no difference between certain characteristics of a population (or data-generating process).\"\n",
    "\n",
    "Check out [this article](https://www.investopedia.com/terms/n/null_hypothesis.asp)\n",
    "\n",
    "- A null hypothesis is a type of conjecture used in statistics that proposes that there is no difference between certain characteristics of a population or data-generating process.\n",
    "- The alternative hypothesis proposes that there is a difference.\n",
    "- Hypothesis testing provides a method to reject a null hypothesis within a certain confidence level. (Null hypotheses cannot be proven, though.)\n",
    "\n",
    "Discussion: \"Null hypotheses cannot be proven\" what does this mean?\n",
    "\n",
    "check out [this article](https://opentextbc.ca/researchmethods/chapter/understanding-null-hypothesis-testing/) as well"
   ]
  },
  {
   "cell_type": "markdown",
   "metadata": {
    "slideshow": {
     "slide_type": "slide"
    }
   },
   "source": [
    "## Null hypothesis examples\n",
    "\n",
    "1 - We want to test if a drug has an impact on the brain \n",
    "\n",
    "2 - Does a food boost your IQ?\n",
    "\n",
    "3 - A/B testing\n",
    "\n",
    "\n",
    "What would be a null hypothesis in these examples?"
   ]
  },
  {
   "cell_type": "markdown",
   "metadata": {},
   "source": [
    "## The High Level Steps\n",
    "\n",
    "- make a hypothesis\n",
    "- find the right test\n",
    "- execute the test\n",
    "- decide based on the results"
   ]
  },
  {
   "cell_type": "markdown",
   "metadata": {
    "slideshow": {
     "slide_type": "slide"
    }
   },
   "source": [
    "## The detailed steps to reject or accept the null hypothesis\n",
    "\n",
    "1- The population mean is known, $\\mu$\n",
    "\n",
    "2- The sample mean is known, $\\bar{x}$\n",
    "\n",
    "3- Define a significance level, $\\alpha$\n",
    "\n",
    "4- If $N$ > 30 or $\\sigma$ is known, then calculate z_score, otherwise use the t score\n",
    "\n",
    "5- Calculate p-value\n",
    "\n",
    "6- Decision: if $p_{value} < \\alpha$ then reject the null hypothesis "
   ]
  },
  {
   "cell_type": "markdown",
   "metadata": {},
   "source": [
    "## Population vs. Sample\n",
    "\n",
    "Population: Discuss\n",
    "\n",
    "Sample: Discuss\n",
    "\n",
    "## Significance level\n",
    "\n",
    "The significance level is the probability of rejecting the null hypothesis when it is true. For example, a significance level of 0.05 indicates a 5% risk of concluding that a difference exists when there is no actual difference. Lower significance levels indicate that you require stronger evidence before you will reject the null hypothesis.\n",
    "\n",
    "We are trying to prove something based on the evidence we have but there is always a chance that we are wrong!\n",
    "\n",
    "## Types of tests\n",
    "\n",
    "There are many different kinds of statistical tests but in this course we will focus on the z test and the t test.\n",
    "\n",
    "Check out [this article](https://towardsdatascience.com/statistical-tests-when-to-use-which-704557554740)\n",
    "\n",
    "\"In a z-test, the sample is assumed to be normally distributed. A z-score is calculated with population parameters such as “population mean” and “population standard deviation” and is used to validate a hypothesis that the sample drawn belongs to the same population.\"\n",
    "\n",
    "\"A t-test is used to compare the mean of two given samples. Like a z-test, a t-test also assumes a normal distribution of the sample. A t-test is used when the population parameters (mean and standard deviation) are not known or the sample size is small n<30.\"\n",
    "\n",
    "## Why do we use means and standard deviations?\n",
    "\n",
    "Discuss\n",
    "\n",
    "## P value\n",
    "\n",
    "[This article](https://towardsdatascience.com/p-values-explained-by-data-scientist-f40a746cfc8) explains it really well"
   ]
  },
  {
   "cell_type": "markdown",
   "metadata": {},
   "source": [
    "## Example\n",
    "\n",
    "Let's work through an example that explores how drinking milk affects the height of super cats!\n",
    "\n",
    "## The Hypothesis\n",
    "\n",
    "The average monster cat is 175.3 cm tall. A survey recorded the heights of 10 monster cats who drank a special type of Milk for 2 years. Our goal is to see if drinking the milk had any affect on height so our null hypothesis is: the milk has no effect on height or worded another way: We want to know whether the mean of the sample is different from the population mean\n",
    "\n",
    "\n",
    "Calculate the t-score from the previous formula and use the available function in stats.ttest_1samp. Compare what you will get with x as your input:\n",
    "\n",
    "x = [177.3, 182.7, 169.6, 176.3, 180.3, 179.4, 178.5, 177.2, 181.8, 176.5]\n",
    "\n",
    "what's our population? what's our sample?\n",
    "\n",
    "## The info we need for our calculation\n",
    "\n",
    "In this example what is the population mean $\\mu$?\n",
    "\n",
    "What is the sample mean $\\bar{x}$?\n",
    "\n",
    "What significance level $\\alpha$ will we use? \n",
    "\n",
    "What test should we use?"
   ]
  },
  {
   "cell_type": "code",
   "execution_count": 6,
   "metadata": {
    "scrolled": true,
    "slideshow": {
     "slide_type": "subslide"
    }
   },
   "outputs": [],
   "source": [
    "from scipy import stats\n",
    "import numpy as np\n",
    "\n",
    "x = [177.3, 182.7, 169.6, 176.3, 180.3, 179.4, 178.5, 177.2, 181.8, 176.5]"
   ]
  },
  {
   "cell_type": "markdown",
   "metadata": {},
   "source": [
    "## Next Time\n",
    "\n",
    "- Different types of t tests, z test, and how to use hypothesis testing with data we are looking at to answer interesting questions! :) "
   ]
  }
 ],
 "metadata": {
  "celltoolbar": "Slideshow",
  "kernelspec": {
   "display_name": "Python 3",
   "language": "python",
   "name": "python3"
  },
  "language_info": {
   "codemirror_mode": {
    "name": "ipython",
    "version": 3
   },
   "file_extension": ".py",
   "mimetype": "text/x-python",
   "name": "python",
   "nbconvert_exporter": "python",
   "pygments_lexer": "ipython3",
   "version": "3.7.3"
  }
 },
 "nbformat": 4,
 "nbformat_minor": 2
}
