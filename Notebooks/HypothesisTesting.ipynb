{
 "cells": [
  {
   "cell_type": "markdown",
   "metadata": {},
   "source": [
    "## Learning Objectives\n",
    "\n",
    "By the end of this lesson, you will be able to:\n",
    "\n",
    "1- Describe null hypothesis and when and how to apply it\n",
    "\n",
    "2- Define the metrics we need in order to statistically accept or reject null\n",
    "\n",
    "3- Understand how and when to use Z test or T test\n",
    "\n",
    "4- Distinguish whether or not two groups are different"
   ]
  },
  {
   "cell_type": "markdown",
   "metadata": {},
   "source": [
    "## What is a hypothesis?\n",
    "\n",
    "Think about it for a few minutes and let's discuss!"
   ]
  },
  {
   "cell_type": "markdown",
   "metadata": {
    "slideshow": {
     "slide_type": "slide"
    }
   },
   "source": [
    "## Null hypothesis examples\n",
    "\n",
    "1 - We want to test if a drug has an impact on the brain \n",
    "\n",
    "2 - Does a food boost your IQ?\n",
    "\n",
    "3 - A/B testing\n",
    "\n",
    "\n",
    "What would be a null hypothesis in these examples?"
   ]
  },
  {
   "cell_type": "markdown",
   "metadata": {},
   "source": [
    "## Logic Behind Hypothesis Testing\n",
    "\n",
    "This aspect of the scientific method has is rooted in the falsification theory of Karl Popper. Here is a classic example of why falsification or refutability is used over verifiability: \n",
    "\n",
    "Consider the statement \"all flowers are purple\", is this easy to disprove with evidence? What about proving it? "
   ]
  },
  {
   "cell_type": "markdown",
   "metadata": {},
   "source": [
    "## What is a null hypothesis?\n",
    "\n",
    "It is the formal method of reaching conclusions based on population statistics and sample data where we apply changes to a population.\n",
    "\n",
    "\"A null hypothesis is a type of hypothesis used in statistics that proposes that there is no difference between certain characteristics of a population (or data-generating process).\"\n",
    "\n",
    "Check out [this article](https://www.investopedia.com/terms/n/null_hypothesis.asp)\n",
    "\n",
    "- A null hypothesis is a type of conjecture used in statistics that proposes that there is no difference between certain characteristics of a population or data-generating process.\n",
    "- The alternative hypothesis proposes that there is a difference.\n",
    "- Hypothesis testing provides a method to reject a null hypothesis within a certain confidence level. (Null hypotheses cannot be proven, though.)\n",
    "\n",
    "Discussion: \"Null hypotheses cannot be proven\" what does this mean?\n",
    "\n",
    "check out [this article](https://opentextbc.ca/researchmethods/chapter/understanding-null-hypothesis-testing/) as well\n",
    "\n",
    "make a null hypothesis, our goal is to prove that the null hypothesis is false and thus the alternative hypothesis is true\n",
    "\n",
    "what if we find that the null hypothesis can not be proven false, does that mean the null hypothesis is true?"
   ]
  },
  {
   "cell_type": "markdown",
   "metadata": {},
   "source": [
    "## The High Level Steps\n",
    "\n",
    "- make a hypothesis\n",
    "- find the right test\n",
    "- execute the test\n",
    "- decide based on the results"
   ]
  },
  {
   "cell_type": "markdown",
   "metadata": {
    "slideshow": {
     "slide_type": "slide"
    }
   },
   "source": [
    "## The detailed steps to reject or accept the null hypothesis\n",
    "\n",
    "1- The population mean is known, $\\mu$\n",
    "\n",
    "2- The sample mean is known, $\\bar{x}$\n",
    "\n",
    "3- Define a significance level, $\\alpha$\n",
    "\n",
    "4- If $N$ > 30 or $\\sigma$ is known, then calculate z_score, otherwise use the t score\n",
    "\n",
    "5- Calculate p-value\n",
    "\n",
    "6- Decision: if $p_{value} < \\alpha$ then reject the null hypothesis \n"
   ]
  },
  {
   "cell_type": "markdown",
   "metadata": {},
   "source": [
    "## Population vs. Sample\n",
    "\n",
    "Population: Discuss\n",
    "\n",
    "Sample: Discuss\n",
    "\n",
    "## Significance level\n",
    "\n",
    "The significance level is the probability of rejecting the null hypothesis when it is true. For example, a significance level of 0.05 indicates a 5% risk of concluding that a difference exists when there is no actual difference. Lower significance levels indicate that you require stronger evidence before you will reject the null hypothesis.\n",
    "\n",
    "We are trying to refute something based on the evidence we have but there is always a chance that we are wrong!\n",
    "\n",
    "## Types of tests\n",
    "\n",
    "There are many different kinds of statistical tests but in this course we will focus on the z test and the t test.\n",
    "\n",
    "Check out [this article](https://towardsdatascience.com/statistical-tests-when-to-use-which-704557554740)\n",
    "\n",
    "\"In a z-test, the sample is assumed to be normally distributed. A z-score is calculated with population parameters such as “population mean” and “population standard deviation” and is used to validate a hypothesis that the sample drawn belongs to the same population.\"\n",
    "\n",
    "\"A t-test is used to compare the mean of two given samples. Like a z-test, a t-test also assumes a normal distribution of the sample. A t-test is used when the population parameters (mean and standard deviation) are not known or the sample size is small n<30.\"\n",
    "\n",
    "## Why do we use means and standard deviations?\n",
    "\n",
    "Discuss\n",
    "\n",
    "## P value\n",
    "\n",
    "[This article](https://towardsdatascience.com/p-values-explained-by-data-scientist-f40a746cfc8) explains it really well"
   ]
  },
  {
   "cell_type": "markdown",
   "metadata": {},
   "source": [
    "## Example\n",
    "\n",
    "Let's work through an example that explores how drinking milk affects the height of monster cats!\n",
    "\n",
    "## The Hypothesis\n",
    "\n",
    "The average monster cat is 175.3 cm tall. A survey recorded the heights of 10 monster cats who drank a special type of Milk for 2 years. Our goal is to see if drinking the milk had any affect on height so our null hypothesis is: the milk has no effect on height or worded another way: We want to know whether the mean of the sample is different from the population mean\n",
    "\n",
    "\n",
    "Calculate the t-score from the previous formula and use the available function in stats.ttest_1samp. Compare what you will get with x as your input:\n",
    "\n",
    "x = [177.3, 182.7, 169.6, 176.3, 180.3, 179.4, 178.5, 177.2, 181.8, 176.5]\n",
    "\n",
    "what's our population? what's our sample?\n",
    "\n",
    "## The info we need for our calculation\n",
    "\n",
    "In this example what is the population mean $\\mu$?\n",
    "\n",
    "What is the sample mean $\\bar{x}$?\n",
    "\n",
    "What significance level $\\alpha$ will we use? \n",
    "\n",
    "What test should we use?"
   ]
  },
  {
   "cell_type": "code",
   "execution_count": 13,
   "metadata": {
    "scrolled": true,
    "slideshow": {
     "slide_type": "subslide"
    }
   },
   "outputs": [
    {
     "name": "stdout",
     "output_type": "stream",
     "text": [
      "177.96\n",
      "Ttest_1sampResult(statistic=2.295568968083183, pvalue=0.04734137339747034)\n",
      "Yay reject!\n"
     ]
    }
   ],
   "source": [
    "from scipy import stats\n",
    "import numpy as np\n",
    "\n",
    "x = [177.3, 182.7, 169.6, 176.3, 180.3, 179.4, 178.5, 177.2, 181.8, 176.5]\n",
    "\n",
    "mu = 175.3\n",
    "x_bar = np.mean(x)\n",
    "print(x_bar)\n",
    "alpha = 0.01\n",
    "\n",
    "#what test should we use and why? t test because we only really have 10 samples \n",
    "tscore, p = stats.ttest_1samp(x, mu)\n",
    "print(result)\n",
    "\n",
    "if p < alpha:\n",
    "    print(\"Yay reject!\")\n",
    "else:\n",
    "    print(\"Oh no can't reject\")"
   ]
  },
  {
   "cell_type": "markdown",
   "metadata": {},
   "source": [
    "## Next Time\n",
    "\n",
    "- Different types of t tests, z test, why the normal distribution assumption is important, and how to use hypothesis testing with data we are looking at to answer interesting questions! :) "
   ]
  },
  {
   "cell_type": "markdown",
   "metadata": {},
   "source": [
    "## Why is the normal distribution assumption important\n",
    "\n",
    "https://towardsdatascience.com/statistical-significance-hypothesis-testing-the-normal-curve-and-p-values-93274fa32687\n",
    "\n",
    "\"When the data satisfies the normality, it shows a probability distribution curve with the highest frequency of occurrence at the center, and the frequency decreases with distance from the center. The distance from the center of the curve makes it easier to statistically determine whether the data obtained is frequently observed. Since most of the data are gathered around the mean value, it reflects the nature of the group and gives information on whether there is a difference between groups and the magnitude of the difference. On the other hand, if the data does not follow the normal distribution, there is no guarantee that it is centered on the mean. Therefore, the comparison of characteristics between groups using the mean value is not possible.\"\n",
    "\n",
    "https://www.ncbi.nlm.nih.gov/pmc/articles/PMC6676026/"
   ]
  },
  {
   "cell_type": "markdown",
   "metadata": {},
   "source": [
    "## Types of t tests\n",
    "\n",
    "Last time we talked about when to use a t test at a high level (when N < 30) but there are actually several different types of t tests and different factors to consider when choosing. The main types are:\n",
    "- one sample\n",
    "- two sample \n",
    "- paired \n",
    "Within each of these types your test can either be one-tailed or two-tailed'\n",
    "\n",
    "## One Tailed vs. Two Tailed\n",
    "\n",
    "The one-tailed test is used when you want to look at a difference between groups in a single direction, like is the mean greater than or less than. The two tailed is when you just want to see a difference in either direction.  \n",
    "\n",
    "![hypothesis for one and two tailed t tests](./Images/onetwotailed.png)"
   ]
  },
  {
   "cell_type": "markdown",
   "metadata": {},
   "source": [
    "## One Sample T Test Formula\n",
    "\n",
    "![formula for one sample t test](./Images/ttest.png)\n",
    "\n",
    "A one sample t test determines whether the sample mean is statistically different from a known or hypothesized population mean. (The milk example we did in last class)\n",
    "\n",
    "You can think of the t value as a signal to noise ratio. \n",
    "- The numerator or the signal is the sample mean minus the population mean. As the difference between these two value increases, your signal gets stronger. \n",
    "- The denominator or the noise is a measure of random error present in your data, it is called the standard error of the mean. It basically measures how well your sample estimated the mean of the population your sample is drawn from. a larger number means more noise which means you sample is less precise. (s is the sample std)\n",
    "\n",
    "https://blog.minitab.com/blog/statistics-and-quality-data-analysis/what-are-t-values-and-p-values-in-statistics\n",
    "\n",
    "## Paired T Test\n",
    "\n",
    "A paired t-test is used when we are interested in the difference between two groups for the same population. Often the two variables are separated by time. For example test scores for subjects before an intervention and after an intervention, is there a difference? (the subjects being the same before and after is important here)\n",
    "\n",
    "\"Many people are confused about when to use a paired t-test and how it works. I’ll let you in on a little secret. The paired t-test and the 1-sample t-test are actually the same test in disguise! As we saw above, a 1-sample t-test compares one sample mean to a null hypothesis value. A paired t-test simply calculates the difference between paired observations (e.g., before and after) and then performs a 1-sample t-test on the differences.\"\n",
    "\n",
    "https://blog.minitab.com/blog/adventures-in-statistics-2/understanding-t-tests-1-sample-2-sample-and-paired-t-tests\n",
    "\n",
    "## Two Sample T Test\n",
    "\n",
    "The two sample t test is used when we want to see the average difference between two groups from different populations is really significant or if it is due instead to random chance. We assume these samples are independent and can use this test for cases such as the income level for two regions or the average heights of two sections of students.\n"
   ]
  },
  {
   "cell_type": "markdown",
   "metadata": {},
   "source": [
    "## T Test Example\n",
    "\n",
    "We want to see if the average hit points for steel type pokemon is different than the average hit points for ice types.\n",
    "\n",
    "What is our null and alternative hypothesis? What type of test should we use?"
   ]
  },
  {
   "cell_type": "code",
   "execution_count": 11,
   "metadata": {},
   "outputs": [],
   "source": [
    "import pandas as pd\n",
    "from scipy import stats\n",
    "import numpy as np\n",
    "\n",
    "df = pd.read_csv(\"Datasets/pokemon.csv\")"
   ]
  },
  {
   "cell_type": "markdown",
   "metadata": {},
   "source": [
    "## Z Tests\n",
    "\n",
    "![formula for one sample z test](./Images/ztest.png)\n",
    "\n",
    "The z test is often more accurate than the t test when the sample size is large and the population variance is known. Z tests follow the same type patterns of t tests but in practice two sample t test are not often used because the population variances are not known and the assumption is that they are equal."
   ]
  },
  {
   "cell_type": "markdown",
   "metadata": {},
   "source": [
    "## Types of Errors\n",
    "\n",
    "Significance tests often use a significance level of α=0.05, but in some cases it makes sense to use a different significance level. Changing α impacts the probabilities of Type I and Type II errors. In some tests, one kind of error has more serious consequences than the other. We may want to choose different values for α in those cases.\n",
    "\n",
    "\n",
    "- A Type I error is when we reject a true null hypothesis. Lower values of α make it harder to reject the null hypothesis, so choosing lower values for α can reduce the probability of a Type I error. The consequence here is that if the null hypothesis is false, it may be more difficult to reject using a low value for α. So using lower values of α can increase the probability of a Type II error.\n",
    "\n",
    "- A Type II error is when we fail to reject a false null hypothesis. Higher values of α make it easier to reject the null hypothesis, so choosing higher values for α can reduce the probability of a Type II error. The consequence here is that if the null hypothesis is true, increasing α makes it more likely that we commit a Type I error (rejecting a true null hypothesis).\n",
    "\n",
    "https://www.khanacademy.org/math/ap-statistics/tests-significance-ap/error-probabilities-power/a/consequences-errors-significance"
   ]
  },
  {
   "cell_type": "code",
   "execution_count": null,
   "metadata": {},
   "outputs": [],
   "source": []
  }
 ],
 "metadata": {
  "celltoolbar": "Slideshow",
  "kernelspec": {
   "display_name": "Python 3",
   "language": "python",
   "name": "python3"
  },
  "language_info": {
   "codemirror_mode": {
    "name": "ipython",
    "version": 3
   },
   "file_extension": ".py",
   "mimetype": "text/x-python",
   "name": "python",
   "nbconvert_exporter": "python",
   "pygments_lexer": "ipython3",
   "version": "3.7.3"
  }
 },
 "nbformat": 4,
 "nbformat_minor": 2
}
