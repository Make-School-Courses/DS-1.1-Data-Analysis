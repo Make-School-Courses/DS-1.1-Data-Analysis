{
 "cells": [
  {
   "cell_type": "markdown",
   "metadata": {
    "slideshow": {
     "slide_type": "slide"
    }
   },
   "source": [
    "## What is Data Science?\n",
    "\n",
    "- This is a good video summarizing data science : https://www.youtube.com/watch?v=KdgQvgE3ji4&t=217s\n",
    "\n",
    "<img src=\"Images/DS_process.png\" width=\"600\" height=\"600\">"
   ]
  },
  {
   "cell_type": "markdown",
   "metadata": {},
   "source": [
    "## Data Science Road Map at Make School\n",
    "\n",
    "- https://docs.google.com/document/d/1dtMNJRDto5cWPLJv0J4eGxv_rv__20ZKsd9RaXU0ioM/edit"
   ]
  },
  {
   "cell_type": "markdown",
   "metadata": {},
   "source": [
    "## What is Exploratory Data Analysis (EDA)?\n",
    "\n",
    "- Refers to the **critical process of performing initial investigations on data**. This allows us to discover patterns, spot anomalies, test our hypothesis, and check assumptions with the help of summary statistics and graphical representations\n",
    "\n",
    "- EDA has three components:\n",
    "\n",
    "    - **Data analysis**. Example: the telecom churn dataset is given, we want to obtain what is the percentage of loyal and non-loyal customers, which state has the highest churn customers, What is the maximum length of international calls among loyal users (Churn == 0) who do not have an international plan?\n",
    "    \n",
    "    - **Data analysis and visualization**. Normally comparison is shwon by plotting results which is easier for humans than reading raw numbers\n",
    "    \n",
    "    - **Statistical analysis on the data**. Example: the titanic dataset is given, at specific \"Embark\" what is the distibution of male passengers over all age (were they mainly young, middle age or old)\n",
    "    \n",
    "<img src=\"Images/DA_process.png\" width=\"600\" height=\"600\">"
   ]
  },
  {
   "cell_type": "markdown",
   "metadata": {},
   "source": [
    "## Software and Tools For EDA\n",
    "\n",
    "- For now, you’ll only need [Anaconda](https://www.anaconda.com/distribution/) (built with Python 3.6)\n",
    "\n",
    "- After Anaconda, we mainly use:\n",
    "\n",
    "    - [pandas](https://pandas.pydata.org/), which is a Python library that provides extensive means for data analysis\n",
    "    \n",
    "    - [matplotlib](https://matplotlib.org/) and [seaborn](https://seaborn.pydata.org/), for data visualization\n",
    "    \n",
    "    - [scipy](https://www.scipy.org/) and [statsmodels](https://www.statsmodels.org/stable/index.html) for statistical data analysis\n",
    "    \n",
    "<img src=\"Images/DA_tools.png\" width=\"600\" height=\"600\">"
   ]
  },
  {
   "cell_type": "markdown",
   "metadata": {},
   "source": [
    "## What is Jupyter Notebook?\n",
    "\n",
    "<img src=\"Images/what_is_jupyter_notebook.png\" width=\"600\" height=\"600\">"
   ]
  },
  {
   "cell_type": "markdown",
   "metadata": {},
   "source": [
    "## Which data career makes more money in London?\n",
    "\n",
    "This is an example of Statistical Data Analysis\n",
    "\n",
    "We'll review [this tutorial](https://dashee87.github.io/data%20science/r/Engineering-Data-Engineers/) that shows you how to scrape the Indeed API for all junior/senior positions for Data Engineer, Data Analyst and Data Scientist.\n",
    "\n",
    "<img src=\"Images/DE_DA_DS.png\" width=\"500\" height=\"500\">\n",
    "\n",
    "Later in this course, you'll know how to follow collect, analyze, and visualize data like they do in this tutorial. You will also learn how to represent the salaries in Cumulative Density Function (CDF)\n",
    "\n"
   ]
  },
  {
   "cell_type": "markdown",
   "metadata": {},
   "source": [
    "## Resources we can use to pull/access data\n",
    "\n",
    "- Databases, writing SQL queries for example \n",
    "\n",
    "- CSV files\n",
    "\n",
    "- Calling APIs, such as the previously shown Indeed API\n",
    "\n",
    "- Crawling (Scrape) websites "
   ]
  },
  {
   "cell_type": "markdown",
   "metadata": {},
   "source": [
    "# Setting Up Your Environment\n",
    "\n",
    "For this class you will need to install the following Python packages: \n",
    "- pip3 install pandas\n",
    "- pip3 install seaborn\n",
    "- pip3 install matplotlib\n",
    "- pip3 install statsmodels\n",
    "- pip3 install scipy\n",
    "- pip3 install scikit-learn==0.21.3\n",
    "- pip3 install notebook\n",
    "\n",
    "All of the material in this course will be presented using jupyter notebooks. If you want to use the notebooks and follow along you can do one of three options:\n",
    "1. copy the notebook files from the course repo (.ipynb files)\n",
    "1. Clone the course repo\n",
    "1. Use [nbviewer and Binder](https://www.tutorialspoint.com/jupyter/sharing_jupyter_notebook_using_github_and_nbviewer.htm)\n",
    "\n",
    "To run jupyter notebooks locally naviagte to your notebook directory in the Terminal and type: jupyter notebook\n",
    "\n",
    "If you want to one just one specific file type jupyter notebook name_of_file.ipynb"
   ]
  },
  {
   "cell_type": "markdown",
   "metadata": {},
   "source": [
    "# Jupyter Basics\n",
    "\n",
    "- Jupyter notebooks consist of components called cells\n",
    "- Cells can be configured as Markdown or runnable Python code\n",
    "- You can use the GUI or there are several [keyboard shortcuts](https://towardsdatascience.com/jypyter-notebook-shortcuts-bf0101a98330)\n",
    "- Shift + Enter will run a cell while Enter will just go to the next line"
   ]
  },
  {
   "cell_type": "markdown",
   "metadata": {},
   "source": [
    "## Activity: How many female passengers survived the Titanic?\n",
    "\n",
    "- Dataset Description: https://www.kaggle.com/andyyang/titanic-survival-project\n",
    "\n",
    "- The intention of this activity is to show that by using appropriate data science packages, we can accelarate our analysis and modeling of our data "
   ]
  },
  {
   "cell_type": "code",
   "execution_count": 1,
   "metadata": {},
   "outputs": [
    {
     "name": "stdout",
     "output_type": "stream",
     "text": [
      "233\n"
     ]
    }
   ],
   "source": [
    "# without using pandas\n",
    "import csv\n",
    "\n",
    "with open('titanic.csv') as csv_file:\n",
    "    csv_reader = csv.reader(csv_file, delimiter=',')\n",
    "    # set the counter\n",
    "    c = 0\n",
    "    # iterate over rows \n",
    "    for row in csv_reader:\n",
    "        # if passenger is female and if she survived, increase the counter\n",
    "        if (row[1] == '1') & (row[4] == 'female'):\n",
    "            c += 1\n",
    "print(c)"
   ]
  },
  {
   "cell_type": "code",
   "execution_count": 6,
   "metadata": {},
   "outputs": [
    {
     "data": {
      "text/plain": [
       "233"
      ]
     },
     "execution_count": 6,
     "metadata": {},
     "output_type": "execute_result"
    }
   ],
   "source": [
    "# Using pandas\n",
    "\n",
    "import pandas as pd\n",
    "\n",
    "df = pd.read_csv('titanic.csv')\n",
    "\n",
    "len(df[(df['Sex'] == 'female') & (df['Survived'] == 1)])"
   ]
  },
  {
   "cell_type": "markdown",
   "metadata": {},
   "source": [
    "# Pandas Dataframe\n",
    "\n",
    "The Pandas DataFrame, often abbreviated as df, is a 2-D labeled data structure with columns of potentially different type. It let's us easily select and manipulate data.\n",
    "\n",
    "You can think of a dataframe as a programmatic excel spreadsheet. [Here](https://towardsdatascience.com/pandas-dataframe-a-lightweight-intro-680e3a212b96) is a good intro to pandas dataframes. \n",
    "\n",
    "## Activity: Live Demo\n",
    "\n",
    "Let's use the cell above to explore some fundamental dataframe methods and properties."
   ]
  },
  {
   "cell_type": "code",
   "execution_count": 34,
   "metadata": {},
   "outputs": [
    {
     "data": {
      "text/html": [
       "<div>\n",
       "<style scoped>\n",
       "    .dataframe tbody tr th:only-of-type {\n",
       "        vertical-align: middle;\n",
       "    }\n",
       "\n",
       "    .dataframe tbody tr th {\n",
       "        vertical-align: top;\n",
       "    }\n",
       "\n",
       "    .dataframe thead th {\n",
       "        text-align: right;\n",
       "    }\n",
       "</style>\n",
       "<table border=\"1\" class=\"dataframe\">\n",
       "  <thead>\n",
       "    <tr style=\"text-align: right;\">\n",
       "      <th></th>\n",
       "      <th>#</th>\n",
       "      <th>Name</th>\n",
       "      <th>Type 1</th>\n",
       "      <th>Type 2</th>\n",
       "      <th>Total</th>\n",
       "      <th>HP</th>\n",
       "      <th>Attack</th>\n",
       "      <th>Defense</th>\n",
       "      <th>Sp. Atk</th>\n",
       "      <th>Sp. Def</th>\n",
       "      <th>Speed</th>\n",
       "      <th>Generation</th>\n",
       "      <th>Legendary</th>\n",
       "    </tr>\n",
       "  </thead>\n",
       "  <tbody>\n",
       "    <tr>\n",
       "      <th>94</th>\n",
       "      <td>87</td>\n",
       "      <td>Dewgong</td>\n",
       "      <td>Water</td>\n",
       "      <td>Ice</td>\n",
       "      <td>475</td>\n",
       "      <td>90</td>\n",
       "      <td>70</td>\n",
       "      <td>80</td>\n",
       "      <td>70</td>\n",
       "      <td>95</td>\n",
       "      <td>70</td>\n",
       "      <td>1</td>\n",
       "      <td>False</td>\n",
       "    </tr>\n",
       "    <tr>\n",
       "      <th>98</th>\n",
       "      <td>91</td>\n",
       "      <td>Cloyster</td>\n",
       "      <td>Water</td>\n",
       "      <td>Ice</td>\n",
       "      <td>525</td>\n",
       "      <td>50</td>\n",
       "      <td>95</td>\n",
       "      <td>180</td>\n",
       "      <td>85</td>\n",
       "      <td>45</td>\n",
       "      <td>70</td>\n",
       "      <td>1</td>\n",
       "      <td>False</td>\n",
       "    </tr>\n",
       "    <tr>\n",
       "      <th>142</th>\n",
       "      <td>131</td>\n",
       "      <td>Lapras</td>\n",
       "      <td>Water</td>\n",
       "      <td>Ice</td>\n",
       "      <td>535</td>\n",
       "      <td>130</td>\n",
       "      <td>85</td>\n",
       "      <td>80</td>\n",
       "      <td>85</td>\n",
       "      <td>95</td>\n",
       "      <td>60</td>\n",
       "      <td>1</td>\n",
       "      <td>False</td>\n",
       "    </tr>\n",
       "  </tbody>\n",
       "</table>\n",
       "</div>"
      ],
      "text/plain": [
       "       #      Name Type 1 Type 2  Total   HP  Attack  Defense  Sp. Atk  \\\n",
       "94    87   Dewgong  Water    Ice    475   90      70       80       70   \n",
       "98    91  Cloyster  Water    Ice    525   50      95      180       85   \n",
       "142  131    Lapras  Water    Ice    535  130      85       80       85   \n",
       "\n",
       "     Sp. Def  Speed  Generation  Legendary  \n",
       "94        95     70           1      False  \n",
       "98        45     70           1      False  \n",
       "142       95     60           1      False  "
      ]
     },
     "execution_count": 34,
     "metadata": {},
     "output_type": "execute_result"
    }
   ],
   "source": [
    "import pandas as pd\n",
    "\n",
    "df = pd.read_csv(\"pokemon.csv\")\n",
    "\n",
    "df[(df['Type 1'] == 'Water') & (df['Type 2'] == 'Ice')]"
   ]
  },
  {
   "cell_type": "markdown",
   "metadata": {},
   "source": [
    "## Applications of Data Analysis\n",
    "\n",
    "Here are some example applications of Data Analysis in the real world:\n",
    "    \n",
    "1. Is the new product or website better than the previous product or website?\n",
    "\n",
    "1. If we have a crime dataset for a given city, which region in the city is the most violence part? At what time of the day? Which season? What type of crime is happening the most?\n",
    "\n",
    "\n",
    "### Slack Activity\n",
    "\n",
    "Go to the DS 1.1 slack channel and list an application of Data Analysis in the real world that you would like to see, or would like to create as part of this course\n"
   ]
  },
  {
   "cell_type": "markdown",
   "metadata": {},
   "source": [
    "## What do you want to get out of this course?\n",
    "\n",
    "What are two topics/items/things you want to learn from this course? Submit them through [this form](https://forms.gle/qDobsKhuPiga9MT7A), and we will do our best to make sure those topics/items are covered!"
   ]
  },
  {
   "cell_type": "markdown",
   "metadata": {},
   "source": [
    "## Optional Reading "
   ]
  },
  {
   "cell_type": "code",
   "execution_count": 33,
   "metadata": {},
   "outputs": [
    {
     "name": "stdout",
     "output_type": "stream",
     "text": [
      "233\n"
     ]
    }
   ],
   "source": [
    "# Another way to count number of survived female passenger in Titanic without using pandas\n",
    "\n",
    "import csv\n",
    "\n",
    "with open('Datasets/titanic.csv') as csv_file:\n",
    "    csv_reader = csv.reader(csv_file, delimiter=',')\n",
    "    gender_ls = []\n",
    "    survive_ls = []\n",
    "    for row in csv_reader:\n",
    "        gender_ls.append(row[4])\n",
    "        survive_ls.append(row[1])\n",
    "        \n",
    "gender_ls = gender_ls[1:]  \n",
    "survive_ls = survive_ls[1:]\n",
    "\n",
    "female_index = [i for i, j in enumerate(gender_ls) if j == 'female']\n",
    "# print(female_index)\n",
    "female_survived_not_survived = [survive_ls[i] for i in female_index]\n",
    "\n",
    "num_female_survived = len([i for i, j in enumerate(female_survived_not_survived) if j == '1'])\n",
    "print(num_female_survived)"
   ]
  },
  {
   "cell_type": "code",
   "execution_count": null,
   "metadata": {},
   "outputs": [],
   "source": []
  }
 ],
 "metadata": {
  "kernelspec": {
   "display_name": "Python 3",
   "language": "python",
   "name": "python3"
  },
  "language_info": {
   "codemirror_mode": {
    "name": "ipython",
    "version": 3
   },
   "file_extension": ".py",
   "mimetype": "text/x-python",
   "name": "python",
   "nbconvert_exporter": "python",
   "pygments_lexer": "ipython3",
   "version": "3.7.3"
  }
 },
 "nbformat": 4,
 "nbformat_minor": 2
}
