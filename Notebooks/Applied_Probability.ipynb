{
 "cells": [
  {
   "cell_type": "markdown",
   "metadata": {},
   "source": [
    "# Learning Objectives\n",
    "\n",
    "By the end of this class, you will be able to...\n",
    "\n",
    "- Write functions to compute probability and conditional probability \n",
    "- Use Bayes formula to compute conditional probability "
   ]
  },
  {
   "cell_type": "markdown",
   "metadata": {},
   "source": [
    "## A Brief Introduction to Probabilistic Thinking"
   ]
  },
  {
   "cell_type": "markdown",
   "metadata": {},
   "source": [
    "Probability is all about the **chances of an event occurring** or how likely an event is to occur, in a set of events.\n",
    "\n",
    "If you really think about it, you've been thinking about probability all of your life! \n",
    "\n",
    "Ever wondered about...\n",
    "\n",
    "> -  The chances of it raining today\n",
    "> -  The chances of winning the lottery\n",
    "> -  The chances of getting hired at Google\n",
    "\n",
    "That's probabilistic thinking! \n",
    "\n",
    "We can draw immediate connections from the world of probabilistic thinking to the world of statistical inference and analysis."
   ]
  },
  {
   "cell_type": "markdown",
   "metadata": {},
   "source": [
    "In mathematics, probability is modeled by the following expression:\n",
    "\n",
    "$P(A)= \\frac{Count of A }{sample Space}$\n",
    "\n",
    "Don't fear at the sight of equations and non-numerical variables – this is much simpler than it looks! \n",
    "\n",
    "All this translates to is that **the probability of Event A occurring** in a set of observed events in _Sample Space S_ is equal to **the number of occurrences of Event A** across _Sample Space S_ divided by **the total number of observed events**. \n",
    "\n",
    "Note that since the number of occurrences of a single event can never be bigger than the total events that can occur in the sample space, the probability of an event will always be within the range: [0, 1]."
   ]
  },
  {
   "cell_type": "markdown",
   "metadata": {},
   "source": [
    "The closer our probability estimate is to zero (0), the less likely it is for our event in-question to occur, with a value of zero (0) indicating that our observed event didn't occur at all. \n",
    "\n",
    "The closer our probability estimate is to one (1), the more likely it is for our event in-question to occur, with a value of one (1) indicating that our observed event occurs in every observable instance.\n",
    "\n",
    "\n",
    "<img src=\"https://www2.southeastern.edu/Academics/Faculty/dgurney/Math241/StatTopics/PrbScl4.jpg\" />"
   ]
  },
  {
   "cell_type": "markdown",
   "metadata": {},
   "source": [
    "You'll often see this represented in data sets in a number of formats. \n",
    "\n",
    "Here are some examples:\n",
    "\n",
    "| Won Lottery |\n",
    "| ----|\n",
    "| yes |\n",
    "| no  |\n",
    "| no  |\n",
    "| no  |\n",
    "\n",
    "<br>\n",
    "\n",
    "| Hired by Google |\n",
    "|------|\n",
    "| false|\n",
    "| true |\n",
    "| true |\n",
    "| false|\n",
    "\n",
    "<br>\n",
    "\n",
    "Any kind of distribution of values where our data can take one of multiple, separately-occurring **states** indicates that we can think about the probability of each state (event) occurring on its own! "
   ]
  },
  {
   "cell_type": "markdown",
   "metadata": {},
   "source": [
    "## Conditional Probability\n",
    "\n",
    "- We want to have a better guess when we have some additional observations for a random event\n",
    "\n",
    "- For example, what is the probability that someone will be hired by Google, knowing that they have a Master Degree?"
   ]
  },
  {
   "cell_type": "markdown",
   "metadata": {},
   "source": [
    "### _Example Question: I Scream for Ice Cream_"
   ]
  },
  {
   "cell_type": "markdown",
   "metadata": {},
   "source": [
    "70% of your friends like Chocolate, and 35% like Chocolate AND like Strawberry.\n",
    "\n",
    "What percent of those who like Chocolate also like Strawberry?"
   ]
  },
  {
   "cell_type": "markdown",
   "metadata": {},
   "source": [
    "Another way to refactor the question to fit our conditional probability model:\n",
    "\n",
    "- Given that some friends like _Chocolate_, what is the probability that they like _Strawberry_ as well?\n",
    "\n",
    "We can now attribute our events to the question parameters!\n",
    "\n",
    "- **Event A: Chocolate**\n",
    "- **Event B: Strawberry**\n",
    "\n",
    "We're already given the following:\n",
    "\n",
    "- $ P( Chocolate ) = 0.7 $\n",
    "- $ P( Chocolate \\cap Strawberry) = 0.35 $\n",
    "\n",
    "And asked the following:\n",
    "\n",
    "- $ P( Strawberry \\mid Chocolate ) = ? $"
   ]
  },
  {
   "cell_type": "markdown",
   "metadata": {},
   "source": [
    "#### In general cases, the conditional probability of an event is described by the following equation.\n",
    "\n",
    "<br><img src=\"https://www.mathsisfun.com/data/images/probability-independent-formula2.gif\" /><br>"
   ]
  },
  {
   "cell_type": "markdown",
   "metadata": {},
   "source": [
    "Therefore, our conditional probability model now looks a little like this:\n",
    "\n",
    "$ P( Strawberry \\mid Chocolate ) = \\frac{P( Chocolate \\cap Strawberry )}{P( Chocolate )} $\n",
    "\n",
    "Plugging in our parameters gives us the following answer:\n",
    "\n",
    "$ P( Strawberry \\mid Chocolate ) = \\frac{0.35}{0.7} = 0.5 $\n",
    "\n",
    "...which confirms to us that 50% of your friends who like chocolate also like strawberry. \n",
    "\n",
    "Makes sense when you think about it! "
   ]
  },
  {
   "cell_type": "markdown",
   "metadata": {},
   "source": [
    "## Activity (Titanic):\n",
    "\n",
    "### Given that some passengers paid over $100 for their ticket, what is the chance they survived?\n",
    "    \n",
    "There are two ways we can approach this problem.\n",
    "\n",
    "1. Calculate it directly: $P(survived = 1 | Fare > 100)$\n",
    "1. Use **Bayes' Theorem**. Bayes' Theorem describes the probability of an event, based on prior knowledge of conditions that might be related to the event. It can be calculated using this formula:\n",
    "\n",
    "$ P( A \\mid B ) = \\frac{P( B \\mid A ) * P( A )}{P( B )} $\n",
    "\n",
    "We know how to calculate $ P( B \\mid A ) $, so we can deduce the following:\n",
    "\n",
    "$ P( A \\mid B ) = \\frac{P( B \\mid A ) * P( A )}{P( B )} = \\frac{\\frac{P( A \\cap B )}{P ( A )} * P( A )}{P( B )} = \\frac{P( A \\cap B )}{P( B )} = \\frac{P(survived = 1 and Fare > 100)}{P(Fare > 100)} $"
   ]
  },
  {
   "cell_type": "markdown",
   "metadata": {},
   "source": [
    "#### Direct Solution:"
   ]
  },
  {
   "cell_type": "code",
   "execution_count": null,
   "metadata": {},
   "outputs": [],
   "source": []
  },
  {
   "cell_type": "markdown",
   "metadata": {},
   "source": [
    "#### Bayes' Theorem Solution"
   ]
  },
  {
   "cell_type": "code",
   "execution_count": 1,
   "metadata": {},
   "outputs": [],
   "source": [
    "# Solution:\n",
    "import pandas as pd\n",
    "df = pd.read_csv('Datasets/titanic.csv')\n",
    "\n"
   ]
  },
  {
   "cell_type": "markdown",
   "metadata": {},
   "source": [
    "### What is the probability that a survived passenger was man?\n",
    "\n",
    "$P(passenger = man \\mid Survived = 1)$"
   ]
  },
  {
   "cell_type": "code",
   "execution_count": null,
   "metadata": {},
   "outputs": [],
   "source": []
  },
  {
   "cell_type": "markdown",
   "metadata": {},
   "source": [
    "### Other challenges\n",
    "\n",
    "- Given that a passenger is under 30 but over 20 years old, what are the chances they are in first class?\n",
    "- Given that a female passenger was unmarried, what are the chances that she survived?\n",
    "- Given that a male passenger over 30 years did not survive, what are the odds that he paid less than $25 for a ticket?\n"
   ]
  },
  {
   "cell_type": "code",
   "execution_count": null,
   "metadata": {},
   "outputs": [],
   "source": []
  },
  {
   "cell_type": "markdown",
   "metadata": {},
   "source": [
    "## Tennis Dataset\n",
    "\n",
    "- This dataset contains how professional tennis players decide to play outdoor tennis based on climate conditions"
   ]
  },
  {
   "cell_type": "code",
   "execution_count": 5,
   "metadata": {},
   "outputs": [
    {
     "data": {
      "text/html": [
       "<div>\n",
       "<style scoped>\n",
       "    .dataframe tbody tr th:only-of-type {\n",
       "        vertical-align: middle;\n",
       "    }\n",
       "\n",
       "    .dataframe tbody tr th {\n",
       "        vertical-align: top;\n",
       "    }\n",
       "\n",
       "    .dataframe thead th {\n",
       "        text-align: right;\n",
       "    }\n",
       "</style>\n",
       "<table border=\"1\" class=\"dataframe\">\n",
       "  <thead>\n",
       "    <tr style=\"text-align: right;\">\n",
       "      <th></th>\n",
       "      <th>Outlook</th>\n",
       "      <th>Temp</th>\n",
       "      <th>Humidity</th>\n",
       "      <th>Wind</th>\n",
       "      <th>Decision</th>\n",
       "    </tr>\n",
       "  </thead>\n",
       "  <tbody>\n",
       "    <tr>\n",
       "      <th>1</th>\n",
       "      <td>Sunny</td>\n",
       "      <td>Hot</td>\n",
       "      <td>High</td>\n",
       "      <td>Weak</td>\n",
       "      <td>No</td>\n",
       "    </tr>\n",
       "    <tr>\n",
       "      <th>2</th>\n",
       "      <td>Sunny</td>\n",
       "      <td>Hot</td>\n",
       "      <td>High</td>\n",
       "      <td>Strong</td>\n",
       "      <td>No</td>\n",
       "    </tr>\n",
       "    <tr>\n",
       "      <th>3</th>\n",
       "      <td>Overcast</td>\n",
       "      <td>Hot</td>\n",
       "      <td>High</td>\n",
       "      <td>Weak</td>\n",
       "      <td>Yes</td>\n",
       "    </tr>\n",
       "    <tr>\n",
       "      <th>4</th>\n",
       "      <td>Rain</td>\n",
       "      <td>Mild</td>\n",
       "      <td>High</td>\n",
       "      <td>Weak</td>\n",
       "      <td>Yes</td>\n",
       "    </tr>\n",
       "    <tr>\n",
       "      <th>5</th>\n",
       "      <td>Rain</td>\n",
       "      <td>Cool</td>\n",
       "      <td>Normal</td>\n",
       "      <td>Weak</td>\n",
       "      <td>Yes</td>\n",
       "    </tr>\n",
       "    <tr>\n",
       "      <th>6</th>\n",
       "      <td>Rain</td>\n",
       "      <td>Cool</td>\n",
       "      <td>Normal</td>\n",
       "      <td>Strong</td>\n",
       "      <td>No</td>\n",
       "    </tr>\n",
       "    <tr>\n",
       "      <th>7</th>\n",
       "      <td>Overcast</td>\n",
       "      <td>Cool</td>\n",
       "      <td>Normal</td>\n",
       "      <td>Strong</td>\n",
       "      <td>Yes</td>\n",
       "    </tr>\n",
       "    <tr>\n",
       "      <th>8</th>\n",
       "      <td>Sunny</td>\n",
       "      <td>Mild</td>\n",
       "      <td>High</td>\n",
       "      <td>Weak</td>\n",
       "      <td>No</td>\n",
       "    </tr>\n",
       "    <tr>\n",
       "      <th>9</th>\n",
       "      <td>Sunny</td>\n",
       "      <td>Cool</td>\n",
       "      <td>Normal</td>\n",
       "      <td>Weak</td>\n",
       "      <td>Yes</td>\n",
       "    </tr>\n",
       "    <tr>\n",
       "      <th>10</th>\n",
       "      <td>Rain</td>\n",
       "      <td>Mild</td>\n",
       "      <td>Normal</td>\n",
       "      <td>Weak</td>\n",
       "      <td>Yes</td>\n",
       "    </tr>\n",
       "    <tr>\n",
       "      <th>11</th>\n",
       "      <td>Sunny</td>\n",
       "      <td>Mild</td>\n",
       "      <td>Normal</td>\n",
       "      <td>Strong</td>\n",
       "      <td>Yes</td>\n",
       "    </tr>\n",
       "    <tr>\n",
       "      <th>12</th>\n",
       "      <td>Overcast</td>\n",
       "      <td>Mild</td>\n",
       "      <td>High</td>\n",
       "      <td>Strong</td>\n",
       "      <td>Yes</td>\n",
       "    </tr>\n",
       "    <tr>\n",
       "      <th>13</th>\n",
       "      <td>Overcast</td>\n",
       "      <td>Hot</td>\n",
       "      <td>Normal</td>\n",
       "      <td>Weak</td>\n",
       "      <td>Yes</td>\n",
       "    </tr>\n",
       "    <tr>\n",
       "      <th>14</th>\n",
       "      <td>Rain</td>\n",
       "      <td>Mild</td>\n",
       "      <td>High</td>\n",
       "      <td>Strong</td>\n",
       "      <td>No</td>\n",
       "    </tr>\n",
       "  </tbody>\n",
       "</table>\n",
       "</div>"
      ],
      "text/plain": [
       "     Outlook  Temp Humidity    Wind Decision\n",
       "1      Sunny   Hot     High    Weak       No\n",
       "2      Sunny   Hot     High  Strong       No\n",
       "3   Overcast   Hot     High    Weak      Yes\n",
       "4       Rain  Mild     High    Weak      Yes\n",
       "5       Rain  Cool   Normal    Weak      Yes\n",
       "6       Rain  Cool   Normal  Strong       No\n",
       "7   Overcast  Cool   Normal  Strong      Yes\n",
       "8      Sunny  Mild     High    Weak       No\n",
       "9      Sunny  Cool   Normal    Weak      Yes\n",
       "10      Rain  Mild   Normal    Weak      Yes\n",
       "11     Sunny  Mild   Normal  Strong      Yes\n",
       "12  Overcast  Mild     High  Strong      Yes\n",
       "13  Overcast   Hot   Normal    Weak      Yes\n",
       "14      Rain  Mild     High  Strong       No"
      ]
     },
     "execution_count": 5,
     "metadata": {},
     "output_type": "execute_result"
    }
   ],
   "source": [
    "import pandas as pd\n",
    "\n",
    "df = pd.read_csv('Datasets/tennis.txt', delimiter=\"\\t\", header=None, names=['Outlook', 'Temp', 'Humidity', 'Wind', 'Decision'])\n",
    "df"
   ]
  },
  {
   "cell_type": "markdown",
   "metadata": {},
   "source": [
    "## Activity: What is the probability that a Tennis player plays when Wind is Weak?"
   ]
  },
  {
   "cell_type": "code",
   "execution_count": null,
   "metadata": {},
   "outputs": [],
   "source": []
  },
  {
   "cell_type": "markdown",
   "metadata": {},
   "source": [
    "## Activity: Write a function that takes Wind conditions (Weak or Strong) and returns the Tennis Player Decision"
   ]
  },
  {
   "cell_type": "code",
   "execution_count": null,
   "metadata": {},
   "outputs": [],
   "source": []
  }
 ],
 "metadata": {
  "kernelspec": {
   "display_name": "Python 3",
   "language": "python",
   "name": "python3"
  },
  "language_info": {
   "codemirror_mode": {
    "name": "ipython",
    "version": 3
   },
   "file_extension": ".py",
   "mimetype": "text/x-python",
   "name": "python",
   "nbconvert_exporter": "python",
   "pygments_lexer": "ipython3",
   "version": "3.7.3"
  }
 },
 "nbformat": 4,
 "nbformat_minor": 2
}
