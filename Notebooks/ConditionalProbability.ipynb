{
 "cells": [
  {
   "cell_type": "markdown",
   "metadata": {},
   "source": [
    "# Probability refresher\n",
    "\n",
    "Suggested readings before class:<br>\n",
    "[Math is fun:Probability](https://www.mathsisfun.com/data/probability.html)\n",
    "\n",
    "\n",
    "Probability is all about the **chances of an event occuring** or how likely an event is to occur, in a set of events.\n",
    "\n",
    "If you really think about it, you've probably been thinking about probability all of your life, such as if you've ever wonderered about \n",
    "\n",
    "\n",
    "> -  The chances of it raining today\n",
    "> -  The chances of winning the lottery\n",
    "> -  The chances of getting hired at Google\n",
    "\n",
    "\n",
    "To really make sense of **the chances** of an event occuring, we need to look at a bit of math through  **probability**.\n",
    "\n",
    "<br>\n",
    "In math probability is modeled by the expression:<br><br>\n",
    "$P(A)= \\frac{Count of A }{sample Space}$<br><br>\n",
    "\n",
    " <br><br>\n",
    "\n",
    "$ P $  is the probability of the event $ A $ occurring in a set of observed events $ sample space $\n",
    "$ count of A $  - is the number of times an certain detail was present in the whole set\n",
    "$ sampleSpace $ - total number of observed events\n",
    "\n",
    "\n",
    "To better understand how works, the closer this number is to 0, the less likely it is to occur, with a value 0 meaning it didnt happen at all. The closer to 1 being an indicator that it, the event is more likely to happen, with a value of 1 being that in every single case this happened.\n",
    "\n",
    "\n",
    "<img src=\"https://www2.southeastern.edu/Academics/Faculty/dgurney/Math241/StatTopics/PrbScl4.jpg\" />\n",
    "\n",
    "\n",
    "You'll often see this represented in data sets in a number of formats. Here are some examples:<br><br>\n",
    "\n",
    "| Hired|\n",
    "|------|\n",
    "| false|\n",
    "| true |\n",
    "| true |\n",
    "| false|\n",
    "\n",
    "<br>\n",
    "<br>\n",
    "\n",
    "| Won Lottery |\n",
    "| ----|\n",
    "| yes |\n",
    "| no  |\n",
    "| no  |\n",
    "| no  |\n",
    "\n",
    "<br>\n",
    "<br>\n",
    "\n",
    "| Survived |\n",
    "| ----|\n",
    "| 0 |\n",
    "| 1  |\n",
    "| 0  |\n",
    "| 1 |\n",
    "\n",
    "\n",
    "Lets look at a short example by actually examining some hiring numbers at Google<br><br>\n",
    "[Click here to read an article about the hiring stats at Google](https://qz.com/285001/heres-why-you-only-have-a-0-2-chance-of-getting-hired-at-google/)<br>\n",
    "> __Google gets around 3 million applications a year now, according to HR head Laszlo Bock, and hires 7,000 .... making it far more selective than institutions like Harvard, Yale, and Stanford.__<br>\n",
    "\n",
    "\n",
    "<br><br>\n",
    "\n",
    "\n",
    "\n",
    "So we have 3 million **observed events**,(in this case the event is submitting an application).<br>\n",
    "And in 7000 of  those 3 million them a hiring occured\n",
    "\n",
    "\n",
    "Lets model that with some code!\n",
    "\n",
    "\n"
   ]
  },
  {
   "cell_type": "code",
   "execution_count": 2,
   "metadata": {},
   "outputs": [],
   "source": [
    "\n",
    "# total number of applicants to Google\n",
    "num_of_applicants = 3000000\n",
    "\n",
    "# here we have the number of people that actually got hired out of that group\n",
    "total_hires = 7000\n",
    "\n",
    "\n",
    "def probability(event_count, sample_space):\n",
    "    p =  event_count/sample_space\n",
    "    return p\n",
    "\n",
    "prob = probability(total_hires, num_of_applicants)"
   ]
  },
  {
   "cell_type": "markdown",
   "metadata": {},
   "source": [
    "^ this number can be used to tell more human readable calculations such as turning it into a percentage by multiplying it by 100"
   ]
  },
  {
   "cell_type": "code",
   "execution_count": 5,
   "metadata": {},
   "outputs": [
    {
     "data": {
      "text/plain": [
       "'0.2333% chance of occurence'"
      ]
     },
     "execution_count": 5,
     "metadata": {},
     "output_type": "execute_result"
    }
   ],
   "source": [
    "def percentage(prob):\n",
    "    percentage = prob * 100\n",
    "    return '{:.4f}% chance of occurence'.format(percentage)\n",
    "percentage(prob)"
   ]
  },
  {
   "cell_type": "markdown",
   "metadata": {},
   "source": [
    "To get the fractional form of the probabiility, divide both the divide both $ A $ and $ sample space $ by $ A $, then(if needed), round the denominiator"
   ]
  },
  {
   "cell_type": "code",
   "execution_count": 8,
   "metadata": {},
   "outputs": [
    {
     "data": {
      "text/plain": [
       "'1/429 chance of occurence'"
      ]
     },
     "execution_count": 8,
     "metadata": {},
     "output_type": "execute_result"
    }
   ],
   "source": [
    "def fraction_probability(event_count,sample_space):\n",
    "    denominator = round( sample_space/event_count)\n",
    "    numerator = int(event_count/event_count)\n",
    "    return '{}/{} chance of occurence'.format(numerator, denominator)\n",
    "\n",
    "fraction_probability(total_hires, num_of_applicants)"
   ]
  },
  {
   "cell_type": "markdown",
   "metadata": {},
   "source": [
    "### Let's plug our numbers from google into these functions to the chances of getting hired"
   ]
  },
  {
   "cell_type": "code",
   "execution_count": 58,
   "metadata": {},
   "outputs": [
    {
     "data": {
      "text/plain": [
       "0.0023333333333333335"
      ]
     },
     "metadata": {},
     "output_type": "display_data"
    },
    {
     "data": {
      "text/plain": [
       "'0.23333333333333336% chance of occurence'"
      ]
     },
     "metadata": {},
     "output_type": "display_data"
    },
    {
     "data": {
      "text/plain": [
       "'1 /429 chance of occurence'"
      ]
     },
     "metadata": {},
     "output_type": "display_data"
    }
   ],
   "source": [
    "# probability of being hired\n",
    "prob_hired = probability(total_hires,num_of_applicants)\n",
    "display(prob_hired)\n",
    "\n",
    "# Percentage of people hired\n",
    "display(percentage_hired(prob_hired))\n",
    "\n",
    "# Fraction of people hired\n",
    "display(fraction_probability(total_hires,num_of_applicants))"
   ]
  },
  {
   "cell_type": "markdown",
   "metadata": {},
   "source": [
    "^\n",
    "Use the formulas above to solve the following questions:\n",
    "\n",
    "1. It rained 3 days last month, what was the probability of it raining? Express this in percentage and fractions as well\n",
    "2. You had 28 days last year where your website had over 100,000 unique visitors. What was the probability of any one day having over 100k visitors? What percentage of days had over 100k visitors?\n",
    "3. Your website crashes every 3rd Tuesday and every 2nd Thursday. What is the probability of a crash occuring in a 31 day month? Express this in percentages and fractions"
   ]
  },
  {
   "cell_type": "markdown",
   "metadata": {},
   "source": [
    "# Conditional Probability\n",
    "\n",
    "Conditonal probability takes this a bit further in that it gets more descriptive. The conditional probability of an event occurring ( called $ B $ ) is the probability that the event will occur, given the knowledge that another event ( $ A $ ) has already occurred.\n",
    "\n",
    "What this means is that $ B $ happening is dependent on $ A $ happening.<br>\n",
    "\n",
    "Example:\n",
    "\n",
    "> of those 7000 hired, let's say that 1500 of them have brown hair\n",
    "> What are the chances that you were hired AND had brown hair?\n",
    "\n",
    "So our $ sample space $ is still 3 million, the number of applicants hasn't changed\n",
    "Our count of hires $ A $ is still the same at 7000.\n",
    "The counts in our new variable $ B $ are a subset of A ($ A $ must occur for $ B $ to be possible)\n",
    "> You'll see this expressed as:<br>\n",
    "$ B $ is a subset of $ A $<br> or<br>  $B ⊂ A$\n",
    "\n",
    "You'll see this expressed in mathematics as:\n",
    "\n",
    "$ P(A|B) = \\frac{P(A and B)}{P(A)} $\n",
    "\n",
    "Let's head to Python to see this in action!\n",
    "\n"
   ]
  },
  {
   "cell_type": "code",
   "execution_count": 11,
   "metadata": {},
   "outputs": [],
   "source": [
    "# To get the conditional probability\n",
    "def conditional_prob(subset_count, event_count, sample_space):\n",
    "    subset_prob = subset_count/ sample_space\n",
    "    event_prob = event_count / sample_space\n",
    "    conditional_p = (subset_prob)/ event_prob\n",
    "    return 'The conditional probability of this occuring out of {} events is {}'.format(sample_space,conditional_p)\n",
    "\n",
    "\n",
    "\n",
    "# To get the percentage of the conditional probability\n",
    "def conditional_prob_percentage(cond_prob):\n",
    "    percentage = cond_prob * 100\n",
    "    return '{}% chance of occuring'.format(percentage)\n",
    "\n",
    "\n",
    "\n",
    "# To get the fracitonal representation\n",
    "def conditional_prob_fraction(cond_prob,sample_space):\n",
    "    numerator = round(cond_prob / cond_prob)\n",
    "    denominator = round(sample_space / cond_prob)\n",
    "    return '{} / {} chance of occurence'.format(numerator, denominator)\n",
    "\n",
    "\n"
   ]
  },
  {
   "cell_type": "markdown",
   "metadata": {},
   "source": [
    "### To really make this stick, were going to plug the numbers from our hiring into the functions!"
   ]
  },
  {
   "cell_type": "code",
   "execution_count": 13,
   "metadata": {},
   "outputs": [
    {
     "data": {
      "text/plain": [
       "'The conditional probability of this occuring out of 3000000 events is 0.21428571428571427'"
      ]
     },
     "metadata": {},
     "output_type": "display_data"
    },
    {
     "data": {
      "text/plain": [
       "'0.05% chance of occuring'"
      ]
     },
     "metadata": {},
     "output_type": "display_data"
    },
    {
     "data": {
      "text/plain": [
       "'1 / 6000000000 chance of occurence'"
      ]
     },
     "metadata": {},
     "output_type": "display_data"
    }
   ],
   "source": [
    "# Number of people with black hair is 1500\n",
    "num_of_brown_hair = 1500\n",
    "\n",
    "cond_prob = conditional_prob(num_of_brown_hair,total_hires,num_of_applicants)\n",
    "display(cond_prob)\n",
    "\n",
    "cond_percent = conditional_prob_percentage(0.0005)\n",
    "display(cond_percent)\n",
    "\n",
    "fraction = conditional_prob_fraction(0.0005,num_of_applicants)\n",
    "display(fraction)"
   ]
  },
  {
   "cell_type": "code",
   "execution_count": null,
   "metadata": {},
   "outputs": [],
   "source": [
    "# Given that a passenger survived, what are the odds that they are male?\n",
    "\n",
    "DATA = \"train.csv\""
   ]
  }
 ],
 "metadata": {
  "kernelspec": {
   "display_name": "Python 3",
   "language": "python",
   "name": "python3"
  },
  "language_info": {
   "codemirror_mode": {
    "name": "ipython",
    "version": 2
   },
   "file_extension": ".py",
   "mimetype": "text/x-python",
   "name": "python",
   "nbconvert_exporter": "python",
   "pygments_lexer": "ipython2",
   "version": "2.7.14"
  }
 },
 "nbformat": 4,
 "nbformat_minor": 2
}
