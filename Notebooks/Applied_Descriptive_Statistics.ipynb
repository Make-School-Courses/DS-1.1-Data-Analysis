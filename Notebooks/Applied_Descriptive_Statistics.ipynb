{
 "cells": [
  {
   "cell_type": "markdown",
   "metadata": {},
   "source": [
    "# Learning Objectives\n",
    "\n",
    "At the end of this class, you will be able to...\n",
    "\n",
    "- Write down functions to compute mean, median and mode \n",
    "\n",
    "- Describe variance and what it reflects \n",
    "\n",
    "- Express the meaning of percentile"
   ]
  },
  {
   "cell_type": "markdown",
   "metadata": {},
   "source": [
    "# Warmup\n",
    "\n",
    "- What percent of passengers on the Titanic embarked at C?\n",
    "\n",
    "- What percent of female passengers in Titanic embarked at C?\n",
    "\n",
    "Work on your own, then compare solutions with a neighbor and discuss"
   ]
  },
  {
   "cell_type": "markdown",
   "metadata": {},
   "source": [
    "# An Introduction to Descriptive Statistics\n",
    "\n",
    "- At this point in our course, we've had plenty of time, experience, and practice in manipulating our data. \n",
    "\n",
    "- However, to really _understand_ our data and underlying patterns across it, we need to dive a layer deeper into the mathematics behind data mechanics and dynamics.\n",
    "\n",
    "- In order to be able to draw conclusions from our data, we need to be able to **describe and interpret our data**.\n",
    "\n",
    "- This will become essential for more advanced data science concepts in data visualization, machine learning, and deep learning."
   ]
  },
  {
   "cell_type": "markdown",
   "metadata": {},
   "source": [
    "## Measures of Central Tendency\n",
    "\n",
    "A [**Central Tendency**](https://en.wikipedia.org/wiki/Central_tendency) is a central (typical) value for a probability distribution\n",
    "\n",
    "- In statistics, we often find that describing data by _averages_ allows us to more often make more powerful assertions regarding the data as a whole. \n",
    "\n",
    "- We often use **three key measures of central tendency** to help describe the **centroid** (arithmetic mean trend across a distribution) of our data:\n",
    "    - **Mean**\n",
    "    - **Median**\n",
    "    - **Mode**"
   ]
  },
  {
   "cell_type": "markdown",
   "metadata": {},
   "source": [
    "### The mean is the raw average value across our data. \n",
    "\n",
    "Calculating the mean is simple: _compute the sum of all values across our data and divide by the total number of values in our dataset_.\n",
    "\n",
    "We've been using the mean for years and years, but such a surprisingly simple arithmetic calculation turns out to have massive implications across being able to critically understand and break down complex datasets! \n"
   ]
  },
  {
   "cell_type": "markdown",
   "metadata": {},
   "source": [
    "### Activity: _Write a function to compute the mean from an arbitrary dataset._"
   ]
  },
  {
   "cell_type": "code",
   "execution_count": 10,
   "metadata": {},
   "outputs": [
    {
     "data": {
      "text/plain": [
       "4.391304347826087"
      ]
     },
     "execution_count": 10,
     "metadata": {},
     "output_type": "execute_result"
    }
   ],
   "source": [
    "import numpy as np\n",
    "\n",
    "data = np.array([1, 3, 5, 2, 3, 7, 8, 4, 10, 0, 6, 7, 3, 0, 3, 0, 5, 7, 10, 1, 4, 9, 3])\n",
    "\n",
    "# TODO: Complete this function by having the function return the average value of our dataset.\n",
    "def compute_mean(dataset):\n",
    "    \"\"\" Main function that calculates the average value across our data. \"\"\"\n",
    "\n",
    "\n",
    "compute_mean(data)"
   ]
  },
  {
   "cell_type": "markdown",
   "metadata": {},
   "source": [
    "## Activity (Titanic):\n",
    "\n",
    "- What is the average age of male passengers that survived?\n",
    "\n",
    "Once you've found the average, talk with a neighbor who has also found the average, and compare how you each came about to your solution"
   ]
  },
  {
   "cell_type": "code",
   "execution_count": null,
   "metadata": {},
   "outputs": [],
   "source": []
  },
  {
   "cell_type": "markdown",
   "metadata": {},
   "source": [
    "### The median is the \"middle value\" or midpoint across our data.\n",
    "\n",
    "Determining the median is as simple as it sounds: _find the data value lying in the exact middle of our dataset_.\n",
    "\n",
    "One critical exception occurs when our data has an even number of values and thus has **two values** at its center: _in these cases, find the **mean** value of the two medians to obtain the true median across our data_. \n",
    "\n",
    "**Remember:** the median can only be calculated across _sorted data_!\n",
    "\n",
    "If data is distributed in a non-normal manner, then we can learn a great deal from interpreting what the exact median value of our dataset is. "
   ]
  },
  {
   "cell_type": "markdown",
   "metadata": {},
   "source": [
    "### Activity: _Write a function to compute the median from an arbitrary dataset._\n",
    "\n",
    "Once you write the function, compare with a neighbor's implementation"
   ]
  },
  {
   "cell_type": "code",
   "execution_count": null,
   "metadata": {},
   "outputs": [],
   "source": [
    "data = np.array([1, 3, 5, 2, 3, 7, 8, 4, 10, 0, 6, 7, 3, 0, 3, 0, 5, 7, 10, 1, 4, 9, 3])\n",
    "\n",
    "# TODO: Complete this function by having the function return the exact true median value of our dataset.\n",
    "# HINT: Consider using DataFrame slicing to help with identifying the correct median value(s).\n",
    "def compute_median(dataset):\n",
    "    \"\"\" Main function that determines the median value across our data. \"\"\"\n",
    "    count = len(dataset)\n",
    "    \n",
    "    if count < 1:\n",
    "        # TODO: Complete this if-statement\n",
    "        return\n",
    "    if count % 2 == 1:\n",
    "        # TODO: Complete this if-statement\n",
    "        return\n",
    "    else:\n",
    "        # TODO: Complete this if-else statement\n",
    "        return\n",
    "    \n",
    "compute_median(data)"
   ]
  },
  {
   "cell_type": "markdown",
   "metadata": {},
   "source": [
    "### The mode is the most commonly occurring value or feature across our data.\n",
    "\n",
    "Determining the mode is relatively simple: _find the value that occurs most frequently across our data_.\n",
    "\n",
    "Remember that if all values across our data are unique and only occur once, then our data **has no mode**!\n",
    "\n",
    "The mode is also an interesting measure of _central tendency_ in that it can be applied towards categorical (non-numerical) data; one can find frequently occurring categories without running any calculations. "
   ]
  },
  {
   "cell_type": "markdown",
   "metadata": {},
   "source": [
    "### Activity: _Write a function to compute the mode from an arbitrary dataset._\n",
    "\n",
    "Once you write the function, compare with a neighbor's implementation"
   ]
  },
  {
   "cell_type": "code",
   "execution_count": null,
   "metadata": {},
   "outputs": [],
   "source": [
    "# NOTE: Tricker than it looks!\n",
    "data = np.array([1, 3, 5, 2, 3, 7, 8, 4, 10, 0, 6, 7, 3, 0, 3, 0, 5, 7, 10, 1, 4, 9, 3])\n",
    "\n",
    "# TODO: Complete this function by having the function return the relative mode across our dataset.\n",
    "# HINT: Remember histograms and tokenization from CS 1.2? How many they help you here? \n",
    "def compute_mode(dataset):\n",
    "    \"\"\" Main function that determines the mode value across our data. \"\"\"\n",
    "    return\n",
    "\n",
    "compute_mode(data)"
   ]
  },
  {
   "cell_type": "markdown",
   "metadata": {},
   "source": [
    "There we have it!\n",
    "\n",
    "Three measures of central tendency that are critically important to understanding the distribution of our data. \n",
    "\n",
    "In future classes on distributions and introductory inferential statistics, we'll talk more about exactly **why** these measures are so important. "
   ]
  },
  {
   "cell_type": "markdown",
   "metadata": {},
   "source": [
    "## Measures of Spread and Variance\n",
    "\n",
    "Like our friends in the central tendency community, measures of spread and variance do their best to describe patterns across our data as a whole.\n",
    "\n",
    "However, unlike measures of central tendency, which focus on the distribution of our data towards an arithmetic centroid, measures of spread and variance talk about the shape and layout of our data all across the board!\n",
    "\n",
    "In this course, there are **two key measures of spread and variance** to help describe the shape of our data:\n",
    "- **Range**\n",
    "- **Variance**, **Standard Deviation**\n"
   ]
  },
  {
   "cell_type": "markdown",
   "metadata": {},
   "source": [
    "## What is Range?\n",
    "\n",
    "**Range** is the difference between the highest and lowest values in a data set. It is one of the simplest measures of **spread** (the extent to which a distribution is stretched or squeezed). We'll use variance/standard deviation to help give more information around all of this!"
   ]
  },
  {
   "cell_type": "markdown",
   "metadata": {},
   "source": [
    "## What is standard deviation or variance?\n",
    "\n",
    "Let's learn it by example:\n",
    "    \n",
    "- We measured the number of rainy days during Fall in three different cities in the last 5 years:"
   ]
  },
  {
   "cell_type": "code",
   "execution_count": 2,
   "metadata": {},
   "outputs": [
    {
     "data": {
      "text/html": [
       "<div>\n",
       "<style scoped>\n",
       "    .dataframe tbody tr th:only-of-type {\n",
       "        vertical-align: middle;\n",
       "    }\n",
       "\n",
       "    .dataframe tbody tr th {\n",
       "        vertical-align: top;\n",
       "    }\n",
       "\n",
       "    .dataframe thead th {\n",
       "        text-align: right;\n",
       "    }\n",
       "</style>\n",
       "<table border=\"1\" class=\"dataframe\">\n",
       "  <thead>\n",
       "    <tr style=\"text-align: right;\">\n",
       "      <th></th>\n",
       "      <th>Rainy</th>\n",
       "      <th>City</th>\n",
       "    </tr>\n",
       "  </thead>\n",
       "  <tbody>\n",
       "    <tr>\n",
       "      <th>0</th>\n",
       "      <td>29</td>\n",
       "      <td>City_A</td>\n",
       "    </tr>\n",
       "    <tr>\n",
       "      <th>1</th>\n",
       "      <td>28</td>\n",
       "      <td>City_A</td>\n",
       "    </tr>\n",
       "    <tr>\n",
       "      <th>2</th>\n",
       "      <td>32</td>\n",
       "      <td>City_A</td>\n",
       "    </tr>\n",
       "    <tr>\n",
       "      <th>3</th>\n",
       "      <td>35</td>\n",
       "      <td>City_A</td>\n",
       "    </tr>\n",
       "    <tr>\n",
       "      <th>4</th>\n",
       "      <td>36</td>\n",
       "      <td>City_A</td>\n",
       "    </tr>\n",
       "    <tr>\n",
       "      <th>5</th>\n",
       "      <td>12</td>\n",
       "      <td>City_B</td>\n",
       "    </tr>\n",
       "    <tr>\n",
       "      <th>6</th>\n",
       "      <td>18</td>\n",
       "      <td>City_B</td>\n",
       "    </tr>\n",
       "    <tr>\n",
       "      <th>7</th>\n",
       "      <td>30</td>\n",
       "      <td>City_B</td>\n",
       "    </tr>\n",
       "    <tr>\n",
       "      <th>8</th>\n",
       "      <td>45</td>\n",
       "      <td>City_B</td>\n",
       "    </tr>\n",
       "    <tr>\n",
       "      <th>9</th>\n",
       "      <td>55</td>\n",
       "      <td>City_B</td>\n",
       "    </tr>\n",
       "    <tr>\n",
       "      <th>10</th>\n",
       "      <td>32</td>\n",
       "      <td>City_C</td>\n",
       "    </tr>\n",
       "    <tr>\n",
       "      <th>11</th>\n",
       "      <td>32</td>\n",
       "      <td>City_C</td>\n",
       "    </tr>\n",
       "    <tr>\n",
       "      <th>12</th>\n",
       "      <td>32</td>\n",
       "      <td>City_C</td>\n",
       "    </tr>\n",
       "    <tr>\n",
       "      <th>13</th>\n",
       "      <td>32</td>\n",
       "      <td>City_C</td>\n",
       "    </tr>\n",
       "    <tr>\n",
       "      <th>14</th>\n",
       "      <td>32</td>\n",
       "      <td>City_C</td>\n",
       "    </tr>\n",
       "  </tbody>\n",
       "</table>\n",
       "</div>"
      ],
      "text/plain": [
       "    Rainy    City\n",
       "0      29  City_A\n",
       "1      28  City_A\n",
       "2      32  City_A\n",
       "3      35  City_A\n",
       "4      36  City_A\n",
       "5      12  City_B\n",
       "6      18  City_B\n",
       "7      30  City_B\n",
       "8      45  City_B\n",
       "9      55  City_B\n",
       "10     32  City_C\n",
       "11     32  City_C\n",
       "12     32  City_C\n",
       "13     32  City_C\n",
       "14     32  City_C"
      ]
     },
     "execution_count": 2,
     "metadata": {},
     "output_type": "execute_result"
    }
   ],
   "source": [
    "import pandas as pd\n",
    "import seaborn as sns\n",
    "import matplotlib.pyplot as plt\n",
    "\n",
    "df = pd.DataFrame({'Rainy':[29,28,32,35,36,12,18,30,45,55, 32,32,32,32,32], 'City':['City_A']*5 + ['City_B']*5 + ['City_C']*5})\n",
    "df"
   ]
  },
  {
   "cell_type": "markdown",
   "metadata": {},
   "source": [
    "## What is the mean of rainy days for City A, B and C?"
   ]
  },
  {
   "cell_type": "code",
   "execution_count": 8,
   "metadata": {},
   "outputs": [
    {
     "name": "stdout",
     "output_type": "stream",
     "text": [
      "32.0\n",
      "32.0\n",
      "32.0\n"
     ]
    }
   ],
   "source": [
    "print(np.mean(df[df['City'] == 'City_A']['Rainy']))\n",
    "\n",
    "print(np.mean(df[df['City'] == 'City_B']['Rainy']))\n",
    "\n",
    "print(np.mean(df[df['City'] == 'City_C']['Rainy']))"
   ]
  },
  {
   "cell_type": "markdown",
   "metadata": {},
   "source": [
    "## Which city has more variation?\n",
    "\n",
    "**Standard deviation (std), which is the square root of variance,** can capture the variations in different arrays\n",
    "\n",
    "[Docs on the std function](https://docs.scipy.org/doc/numpy/reference/generated/numpy.std.html) from Numpy"
   ]
  },
  {
   "cell_type": "code",
   "execution_count": 7,
   "metadata": {},
   "outputs": [
    {
     "name": "stdout",
     "output_type": "stream",
     "text": [
      "3.1622776601683795\n",
      "16.112107248898266\n",
      "0.0\n"
     ]
    }
   ],
   "source": [
    "print(np.std(df[df['City'] == 'City_A']['Rainy']))\n",
    "\n",
    "print(np.std(df[df['City'] == 'City_B']['Rainy']))\n",
    "\n",
    "print(np.std(df[df['City'] == 'City_C']['Rainy']))"
   ]
  },
  {
   "cell_type": "markdown",
   "metadata": {},
   "source": [
    "## Let's plot the variations in the data"
   ]
  },
  {
   "cell_type": "code",
   "execution_count": 79,
   "metadata": {},
   "outputs": [
    {
     "data": {
      "image/png": "[encoded data removed]",
      "text/plain": [
       "<Figure size 432x288 with 1 Axes>"
      ]
     },
     "metadata": {},
     "output_type": "display_data"
    }
   ],
   "source": [
    "sns.lineplot(y='Rainy', x='City', data=df)\n",
    "plt.show()"
   ]
  },
  {
   "cell_type": "markdown",
   "metadata": {},
   "source": [
    "## Most (or majority) of the values (rainy days) in Cities A, B and C are between mean - std and mean + std"
   ]
  },
  {
   "cell_type": "code",
   "execution_count": 83,
   "metadata": {},
   "outputs": [
    {
     "name": "stdout",
     "output_type": "stream",
     "text": [
      "[28.837722339831622, 35.16227766016838]\n",
      "[15.887892751101734, 48.11210724889827]\n",
      "[32.0, 32.0]\n"
     ]
    }
   ],
   "source": [
    "\n",
    "print([32 - np.std(df[df['City'] == 'City_A']['Rainy']), 32 + np.std(df[df['City'] == 'City_A']['Rainy'])])\n",
    "\n",
    "print([32 - np.std(df[df['City'] == 'City_B']['Rainy']), 32 + np.std(df[df['City'] == 'City_B']['Rainy'])])\n",
    "\n",
    "print([32 - np.std(df[df['City'] == 'City_C']['Rainy']), 32 + np.std(df[df['City'] == 'City_C']['Rainy'])])\n"
   ]
  },
  {
   "cell_type": "markdown",
   "metadata": {},
   "source": [
    "# Percentile\n",
    "\n",
    "The value below which a percentage of data falls.\n",
    "\n",
    "## Activity - Compute 75% Percentile for Fare in Titanic\n",
    "We want to compute:\n",
    "\n",
    "- At which dollar amount did 75 percent of the passengers pay less than the Fare amount?\n",
    "\n",
    "How would we do this?\n",
    "\n",
    "**Hint:** Use Numpy's [percentile](https://docs.scipy.org/doc/numpy/reference/generated/numpy.percentile.html) function\n",
    "\n",
    "When you're done, compare implementations with a neighbor"
   ]
  },
  {
   "cell_type": "code",
   "execution_count": 12,
   "metadata": {},
   "outputs": [
    {
     "data": {
      "text/plain": [
       "31.0"
      ]
     },
     "execution_count": 12,
     "metadata": {},
     "output_type": "execute_result"
    }
   ],
   "source": []
  },
  {
   "cell_type": "markdown",
   "metadata": {},
   "source": [
    "## Verify that 75 percent of passengers paid less than 31.0 Dollar"
   ]
  },
  {
   "cell_type": "code",
   "execution_count": 92,
   "metadata": {},
   "outputs": [
    {
     "data": {
      "text/plain": [
       "0.7508417508417509"
      ]
     },
     "execution_count": 92,
     "metadata": {},
     "output_type": "execute_result"
    }
   ],
   "source": [
    "# Slice the data based on Fare for those paid less than 31 Dollar\n",
    "numbers_below_percentile = df[df['Fare'] <= np.percentile(ls_fare, 75)]\n",
    "\n",
    "# Compute the size of the sliced dataframe and divide over all number of passengers\n",
    "pr_below_percentile = len(numbers_below_percentile)/len(ls_fare)\n",
    "\n",
    "pr_below_percentile"
   ]
  }
 ],
 "metadata": {
  "kernelspec": {
   "display_name": "Python 3",
   "language": "python",
   "name": "python3"
  },
  "language_info": {
   "codemirror_mode": {
    "name": "ipython",
    "version": 3
   },
   "file_extension": ".py",
   "mimetype": "text/x-python",
   "name": "python",
   "nbconvert_exporter": "python",
   "pygments_lexer": "ipython3",
   "version": "3.7.3"
  }
 },
 "nbformat": 4,
 "nbformat_minor": 2
}
